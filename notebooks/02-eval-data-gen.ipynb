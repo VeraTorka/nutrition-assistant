{
 "cells": [
  {
   "cell_type": "markdown",
   "id": "ac4c7ba3-0aec-4e8e-bbe7-6de9fb64719f",
   "metadata": {},
   "source": [
    "## Evaluation data generation"
   ]
  },
  {
   "cell_type": "code",
   "execution_count": 1,
   "id": "285b76d8-120a-41a2-be4e-8e13b2d25675",
   "metadata": {},
   "outputs": [],
   "source": [
    "import pandas as pd\n",
    "import numpy as np"
   ]
  },
  {
   "cell_type": "code",
   "execution_count": 2,
   "id": "103e696e-a662-4b7f-baed-61fd72eab7bf",
   "metadata": {},
   "outputs": [],
   "source": [
    "from openai import OpenAI\n",
    "client = OpenAI()"
   ]
  },
  {
   "cell_type": "code",
   "execution_count": 3,
   "id": "24a1a83e-23fd-44ec-b9fc-b7520d0b9c76",
   "metadata": {},
   "outputs": [],
   "source": [
    "df=pd.read_csv('../data/data.csv')\n",
    "documents=df.to_dict(orient='records')"
   ]
  },
  {
   "cell_type": "code",
   "execution_count": 4,
   "id": "4dd7d914-d7e6-42bd-9a3b-2a6205c5b175",
   "metadata": {},
   "outputs": [
    {
     "data": {
      "text/plain": [
       "{'id': 0,\n",
       " 'food': 'Apple',\n",
       " 'serving_size_g': 100,\n",
       " 'calories_kcal': 52,\n",
       " 'protein_g': 0.3,\n",
       " 'fat_g': 0.2,\n",
       " 'carbohydrates_g': 14.0,\n",
       " 'vitamin_a_mg': 0.054,\n",
       " 'vitamin_b6_mg': 0.041,\n",
       " 'vitamin_b12_mg': 0.0,\n",
       " 'vitamin_c_mg': 4.6,\n",
       " 'vitamin_d_mg': 0.0,\n",
       " 'vitamin_e_mg': 0.18,\n",
       " 'calcium_mg': 6,\n",
       " 'iron_mg': 0.12,\n",
       " 'potassium_mg': 107,\n",
       " 'magnesium_mg': 5,\n",
       " 'selenium_mg': 0,\n",
       " 'zinc_mg': 0.04,\n",
       " 'iodine_mg': 1,\n",
       " 'allergens': 'no'}"
      ]
     },
     "execution_count": 4,
     "metadata": {},
     "output_type": "execute_result"
    }
   ],
   "source": [
    "documents[0]"
   ]
  },
  {
   "cell_type": "code",
   "execution_count": 5,
   "id": "d3654697-1a89-41a4-8014-f5f495d834fc",
   "metadata": {},
   "outputs": [],
   "source": [
    "prompt_template = \"\"\"\n",
    "You emulate a user of our Nutrition Assistant application.\n",
    "Formulate 5 questions this user might ask based on the provided food record.\n",
    "The questions should be clear, specific to this food item, and naturally phrased as if from a curious user.\n",
    "Avoid repeating exact phrases from the record — paraphrase where possible.\n",
    "\n",
    "The record:\n",
    "\n",
    "food: {food}\n",
    "serving_size_g: {serving_size_g}\n",
    "calories_kcal: {calories_kcal}\n",
    "protein_g: {protein_g}\n",
    "fat_g: {fat_g}\n",
    "carbohydrates_g: {carbohydrates_g}\n",
    "vitamin_a_mg: {vitamin_a_mg}\n",
    "vitamin_b6_mg: {vitamin_b6_mg}\n",
    "vitamin_b12_mg: {vitamin_b12_mg}\n",
    "vitamin_c_mg: {vitamin_c_mg}\n",
    "vitamin_d_mg: {vitamin_d_mg}\n",
    "vitamin_e_mg: {vitamin_e_mg}\n",
    "calcium_mg: {calcium_mg}\n",
    "iron_mg: {iron_mg}\n",
    "potassium_mg: {potassium_mg}\n",
    "magnesium_mg: {magnesium_mg}\n",
    "selenium_mg: {selenium_mg}\n",
    "zinc_mg: {zinc_mg}\n",
    "iodine_mg: {iodine_mg}\n",
    "allergens: {allergens}\n",
    "\n",
    "Guidelines:\n",
    "- Each question should focus on nutrients, calories, vitamins, or allergens of this food.\n",
    "- At least one question should compare it with other foods (e.g., \"Is this higher in iron than apples?\").\n",
    "- Avoid generic questions like “Is this healthy?” — make them data-driven.\n",
    "- Keep each question complete and natural for a real user.\n",
    "\n",
    "Provide the output in valid, parsable JSON without code blocks:\n",
    "\n",
    "{{\"questions\": [\"question1\", \"question2\", ..., \"question5\"]}}\n",
    "\"\"\".strip()\n"
   ]
  },
  {
   "cell_type": "code",
   "execution_count": 6,
   "id": "8d80b4f6-239c-43ee-ad38-8623d9c977a7",
   "metadata": {},
   "outputs": [],
   "source": [
    "prompt = prompt_template.format(**documents[0])"
   ]
  },
  {
   "cell_type": "code",
   "execution_count": 7,
   "id": "23e75914-1953-455d-889d-5dd54da08ee0",
   "metadata": {},
   "outputs": [],
   "source": [
    "def llm(prompt):\n",
    "    response = client.chat.completions.create(\n",
    "        model='gpt-4o-mini',\n",
    "        messages=[{\"role\": \"user\", \"content\": prompt}]\n",
    "    )\n",
    "    \n",
    "    return response.choices[0].message.content"
   ]
  },
  {
   "cell_type": "code",
   "execution_count": 8,
   "id": "90a965c1-4e41-4365-bfd0-1242edae6e13",
   "metadata": {},
   "outputs": [],
   "source": [
    "questions = llm(prompt)"
   ]
  },
  {
   "cell_type": "code",
   "execution_count": 9,
   "id": "9d4f053d-777c-4340-a855-4149f32d06a6",
   "metadata": {},
   "outputs": [],
   "source": [
    "import json"
   ]
  },
  {
   "cell_type": "code",
   "execution_count": 10,
   "id": "f5308ab4-9165-4b96-926e-d3baf7c71070",
   "metadata": {},
   "outputs": [
    {
     "data": {
      "text/plain": [
       "{'questions': ['How many calories are there in a 100g serving of an apple compared to a banana?',\n",
       "  'What is the protein content in an apple, and how does it compare to a serving of almonds?',\n",
       "  'Can you tell me how much vitamin C is in an apple and how it stacks up against an orange?',\n",
       "  'Are there any common allergens in apples that I should be aware of?',\n",
       "  'What other vitamins are present in an apple, and how do they contribute to its overall nutritional profile?']}"
      ]
     },
     "execution_count": 10,
     "metadata": {},
     "output_type": "execute_result"
    }
   ],
   "source": [
    "json.loads(questions)"
   ]
  },
  {
   "cell_type": "code",
   "execution_count": 11,
   "id": "570e5fa0-168a-4c7a-b3ed-f9a974abb52d",
   "metadata": {},
   "outputs": [],
   "source": [
    "def generate_questions(doc):\n",
    "    prompt = prompt_template.format(**doc)\n",
    "\n",
    "    response = client.chat.completions.create(\n",
    "        model='gpt-4o-mini',\n",
    "        messages=[{\"role\": \"user\", \"content\": prompt}]\n",
    "    )\n",
    "\n",
    "    json_response = response.choices[0].message.content\n",
    "    return json_response\n"
   ]
  },
  {
   "cell_type": "code",
   "execution_count": 12,
   "id": "e2444ced-04dd-4c60-991f-0f725cd9583e",
   "metadata": {},
   "outputs": [],
   "source": [
    "from tqdm.auto import tqdm"
   ]
  },
  {
   "cell_type": "code",
   "execution_count": 13,
   "id": "3527322c-f750-4797-a7d7-458937387160",
   "metadata": {},
   "outputs": [],
   "source": [
    "results = {}"
   ]
  },
  {
   "cell_type": "code",
   "execution_count": 14,
   "id": "b75ea596-1ee2-4538-a481-5a5518d6065e",
   "metadata": {},
   "outputs": [
    {
     "data": {
      "application/vnd.jupyter.widget-view+json": {
       "model_id": "2edf1f7969b943a384a38e89bbee593b",
       "version_major": 2,
       "version_minor": 0
      },
      "text/plain": [
       "  0%|          | 0/435 [00:00<?, ?it/s]"
      ]
     },
     "metadata": {},
     "output_type": "display_data"
    }
   ],
   "source": [
    "for doc in tqdm(documents): \n",
    "    doc_id = doc['id']\n",
    "    if doc_id in results:\n",
    "        continue\n",
    "\n",
    "    questions_raw = generate_questions(doc)\n",
    "    questions = json.loads(questions_raw)\n",
    "    results[doc_id] = questions['questions']"
   ]
  },
  {
   "cell_type": "code",
   "execution_count": 15,
   "id": "18e460fd-df88-4889-9eb7-ff36054080d3",
   "metadata": {},
   "outputs": [],
   "source": [
    "final_results = []\n",
    "\n",
    "for doc_id, questions in results.items():\n",
    "    for q in questions:\n",
    "        final_results.append((doc_id, q))\n"
   ]
  },
  {
   "cell_type": "code",
   "execution_count": 16,
   "id": "c065b38e-a959-48d8-8382-98b05ab4e97f",
   "metadata": {},
   "outputs": [
    {
     "data": {
      "text/plain": [
       "(0,\n",
       " 'How many calories are in a 100g serving of an apple compared to a banana?')"
      ]
     },
     "execution_count": 16,
     "metadata": {},
     "output_type": "execute_result"
    }
   ],
   "source": [
    "final_results[0]"
   ]
  },
  {
   "cell_type": "code",
   "execution_count": 17,
   "id": "4abe7d00-10a6-42a5-81e8-59b8c46bc979",
   "metadata": {},
   "outputs": [],
   "source": [
    "df_results = pd.DataFrame(final_results, columns=['id', 'question'])"
   ]
  },
  {
   "cell_type": "code",
   "execution_count": 18,
   "id": "77b216a6-7ada-402c-bfd2-4d90f1c9ef8c",
   "metadata": {},
   "outputs": [],
   "source": [
    "df_results.to_csv('../data/ground-truth-retrieval.csv', index=False)"
   ]
  },
  {
   "cell_type": "code",
   "execution_count": 19,
   "id": "50c8bbee-db4a-42b7-ae2d-0d9a62e75207",
   "metadata": {},
   "outputs": [
    {
     "name": "stdout",
     "output_type": "stream",
     "text": [
      "id,question\n",
      "0,How many calories are in a 100g serving of an apple compared to a banana?\n",
      "0,\"What is the vitamin C content in an apple, and how does it compare to an orange?\"\n",
      "0,Can you tell me the amount of potassium in 100g of apple and how it stacks up against a medium-sized potato?\n",
      "0,What percentage of the daily recommended intake of calcium does a 100g apple provide?\n",
      "0,Are there any common allergens in apples that I should be aware of?\n",
      "1,\"How many grams of carbohydrates are in a 100-gram serving of banana, and how does that compare to a similar serving of an apple?\"\n",
      "1,\"What is the potassium content in a banana, and why is it important for my diet?\"\n",
      "1,Can you tell me the vitamin C content in a banana and how it contributes to my daily nutritional needs?\n",
      "1,Does a banana provide any significant amount of protein or fat compared to other fruits?\n"
     ]
    }
   ],
   "source": [
    "!head ../data/ground-truth-retrieval.csv"
   ]
  },
  {
   "cell_type": "code",
   "execution_count": null,
   "id": "be2d7999-f843-4939-b9cf-ee8f2268c27d",
   "metadata": {},
   "outputs": [],
   "source": []
  }
 ],
 "metadata": {
  "kernelspec": {
   "display_name": "Python 3 (ipykernel)",
   "language": "python",
   "name": "python3"
  },
  "language_info": {
   "codemirror_mode": {
    "name": "ipython",
    "version": 3
   },
   "file_extension": ".py",
   "mimetype": "text/x-python",
   "name": "python",
   "nbconvert_exporter": "python",
   "pygments_lexer": "ipython3",
   "version": "3.12.3"
  }
 },
 "nbformat": 4,
 "nbformat_minor": 5
}
